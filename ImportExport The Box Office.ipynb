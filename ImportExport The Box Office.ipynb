{
 "cells": [
  {
   "cell_type": "code",
   "execution_count": 1,
   "id": "d81b726d",
   "metadata": {},
   "outputs": [],
   "source": [
    "import pandas as pd\n",
    "import datetime\n",
    "from pathlib import Path"
   ]
  },
  {
   "cell_type": "code",
   "execution_count": 2,
   "id": "e4c58e22",
   "metadata": {},
   "outputs": [
    {
     "name": "stdout",
     "output_type": "stream",
     "text": [
      "Start Time:10:10 PM\n"
     ]
    }
   ],
   "source": [
    "print('Start Time:' + str(datetime.datetime.now().strftime(\"%I:%M %p\")))"
   ]
  },
  {
   "cell_type": "code",
   "execution_count": 3,
   "id": "1d64529a",
   "metadata": {},
   "outputs": [],
   "source": [
    "directory = Path.cwd()"
   ]
  },
  {
   "cell_type": "code",
   "execution_count": 4,
   "id": "8e780b2c",
   "metadata": {},
   "outputs": [
    {
     "data": {
      "text/plain": [
       "WindowsPath(\"C:/Users/Brian/Andy's Python Learning Files\")"
      ]
     },
     "execution_count": 4,
     "metadata": {},
     "output_type": "execute_result"
    }
   ],
   "source": [
    "directory"
   ]
  },
  {
   "cell_type": "code",
   "execution_count": 5,
   "id": "7354d5fd",
   "metadata": {},
   "outputs": [],
   "source": [
    "teams = directory / 'Box_Office.xlsx'"
   ]
  },
  {
   "cell_type": "code",
   "execution_count": 6,
   "id": "691acf07",
   "metadata": {},
   "outputs": [
    {
     "data": {
      "text/plain": [
       "WindowsPath(\"C:/Users/Brian/Andy's Python Learning Files/Box_Office.xlsx\")"
      ]
     },
     "execution_count": 6,
     "metadata": {},
     "output_type": "execute_result"
    }
   ],
   "source": [
    "teams"
   ]
  },
  {
   "cell_type": "code",
   "execution_count": 7,
   "id": "577998b7",
   "metadata": {},
   "outputs": [],
   "source": [
    "#Box_Office = pd.read_excel(r\"C:/Users/Brian/Pratice on Class 4/Box_Office.xlsx\")\n",
    "Box_Office = pd.read_excel(teams)"
   ]
  },
  {
   "cell_type": "code",
   "execution_count": 8,
   "id": "6621efce",
   "metadata": {},
   "outputs": [
    {
     "data": {
      "text/html": [
       "<div>\n",
       "<style scoped>\n",
       "    .dataframe tbody tr th:only-of-type {\n",
       "        vertical-align: middle;\n",
       "    }\n",
       "\n",
       "    .dataframe tbody tr th {\n",
       "        vertical-align: top;\n",
       "    }\n",
       "\n",
       "    .dataframe thead th {\n",
       "        text-align: right;\n",
       "    }\n",
       "</style>\n",
       "<table border=\"1\" class=\"dataframe\">\n",
       "  <thead>\n",
       "    <tr style=\"text-align: right;\">\n",
       "      <th></th>\n",
       "      <th>Rank</th>\n",
       "      <th>LW</th>\n",
       "      <th>Release</th>\n",
       "      <th>Gross</th>\n",
       "      <th>%± LW</th>\n",
       "      <th>Theaters</th>\n",
       "      <th>Change</th>\n",
       "      <th>Average</th>\n",
       "      <th>Total Gross</th>\n",
       "      <th>Weeks</th>\n",
       "      <th>Distributor</th>\n",
       "      <th>New This Week</th>\n",
       "      <th>Estimated</th>\n",
       "      <th>Datestamp</th>\n",
       "    </tr>\n",
       "  </thead>\n",
       "  <tbody>\n",
       "    <tr>\n",
       "      <th>0</th>\n",
       "      <td>1</td>\n",
       "      <td>-</td>\n",
       "      <td>Bad Boys: Ride or Die</td>\n",
       "      <td>$56,527,324</td>\n",
       "      <td>-</td>\n",
       "      <td>3885</td>\n",
       "      <td>-</td>\n",
       "      <td>$14,550</td>\n",
       "      <td>$56,527,324</td>\n",
       "      <td>1</td>\n",
       "      <td>Sony Pictures Releasing</td>\n",
       "      <td>True</td>\n",
       "      <td>False</td>\n",
       "      <td>2024-06-11 19:30:08.962</td>\n",
       "    </tr>\n",
       "    <tr>\n",
       "      <th>1</th>\n",
       "      <td>2</td>\n",
       "      <td>1</td>\n",
       "      <td>The Garfield Movie</td>\n",
       "      <td>$10,003,554</td>\n",
       "      <td>-28.6%</td>\n",
       "      <td>3959</td>\n",
       "      <td>-149</td>\n",
       "      <td>$2,526</td>\n",
       "      <td>$68,616,391</td>\n",
       "      <td>3</td>\n",
       "      <td>Sony Pictures Releasing</td>\n",
       "      <td>False</td>\n",
       "      <td>False</td>\n",
       "      <td>2024-06-11 19:30:08.962</td>\n",
       "    </tr>\n",
       "  </tbody>\n",
       "</table>\n",
       "</div>"
      ],
      "text/plain": [
       "   Rank LW                Release        Gross   %± LW  Theaters Change  \\\n",
       "0     1  -  Bad Boys: Ride or Die  $56,527,324       -      3885      -   \n",
       "1     2  1     The Garfield Movie  $10,003,554  -28.6%      3959   -149   \n",
       "\n",
       "   Average  Total Gross  Weeks              Distributor  New This Week  \\\n",
       "0  $14,550  $56,527,324      1  Sony Pictures Releasing           True   \n",
       "1   $2,526  $68,616,391      3  Sony Pictures Releasing          False   \n",
       "\n",
       "   Estimated               Datestamp  \n",
       "0      False 2024-06-11 19:30:08.962  \n",
       "1      False 2024-06-11 19:30:08.962  "
      ]
     },
     "execution_count": 8,
     "metadata": {},
     "output_type": "execute_result"
    }
   ],
   "source": [
    "Box_Office.head(2)"
   ]
  },
  {
   "cell_type": "code",
   "execution_count": 9,
   "id": "5b76e0e3",
   "metadata": {},
   "outputs": [
    {
     "data": {
      "text/plain": [
       "'Box_Office.drop(columns=\"Estimated\")\\nBox_Office.drop_duplicates()\\nBox_Office.info()\\nBox_Office.shape\\nBox_Office[\"Change\"].str.strip(\"-\")\\nBox_Office[\"%± LW\"] = df[\"%± LW\"].str.strip(\"-,%\")\\nBox_Office = df.drop(\"Theaters\", axis=1)\\n'"
      ]
     },
     "execution_count": 9,
     "metadata": {},
     "output_type": "execute_result"
    }
   ],
   "source": [
    "'''Box_Office.drop(columns=\"Estimated\")\n",
    "Box_Office.drop_duplicates()\n",
    "Box_Office.info()\n",
    "Box_Office.shape\n",
    "Box_Office[\"Change\"].str.strip(\"-\")\n",
    "Box_Office[\"%± LW\"] = df[\"%± LW\"].str.strip(\"-,%\")\n",
    "Box_Office = df.drop(\"Theaters\", axis=1)\n",
    "'''"
   ]
  },
  {
   "cell_type": "code",
   "execution_count": 10,
   "id": "320ce7e3",
   "metadata": {},
   "outputs": [],
   "source": [
    "#I now want to rename the File:\n",
    "#'C:/Users/Brian/Pratice on Class 4/Box_Office.xlsx'"
   ]
  },
  {
   "cell_type": "code",
   "execution_count": 12,
   "id": "963454d4",
   "metadata": {},
   "outputs": [
    {
     "name": "stdout",
     "output_type": "stream",
     "text": [
      "End: 10:08 PM\n"
     ]
    }
   ],
   "source": [
    "Location_for_file_export1 = r'C:\\Users\\Brian\\OneDrive\\Desktop\\Box_Office1.xlsx'\n",
    "#df.to_csv(Location_for_file_export, index=False)\n",
    "\n",
    "Location_for_file_export2 = teams\n",
    "Box_Office.to_excel(Location_for_file_export2, index=False)\n",
    "\n",
    "print(\"End: \" + str(datetime.datetime.now().strftime(\"%I:%m %p\")))"
   ]
  },
  {
   "cell_type": "code",
   "execution_count": null,
   "id": "0ce76a38",
   "metadata": {},
   "outputs": [],
   "source": []
  }
 ],
 "metadata": {
  "kernelspec": {
   "display_name": "Python 3 (ipykernel)",
   "language": "python",
   "name": "python3"
  },
  "language_info": {
   "codemirror_mode": {
    "name": "ipython",
    "version": 3
   },
   "file_extension": ".py",
   "mimetype": "text/x-python",
   "name": "python",
   "nbconvert_exporter": "python",
   "pygments_lexer": "ipython3",
   "version": "3.9.13"
  }
 },
 "nbformat": 4,
 "nbformat_minor": 5
}
