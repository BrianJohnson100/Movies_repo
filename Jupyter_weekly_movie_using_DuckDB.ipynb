{
 "cells": [
  {
   "cell_type": "code",
   "execution_count": 1,
   "id": "3a40feff",
   "metadata": {},
   "outputs": [],
   "source": [
    "import pandas as pd\n",
    "import datetime\n",
    "import duckdb\n",
    "from pathlib import Path"
   ]
  },
  {
   "cell_type": "code",
   "execution_count": 2,
   "id": "8743b160",
   "metadata": {},
   "outputs": [],
   "source": [
    "directory = Path.cwd()"
   ]
  },
  {
   "cell_type": "code",
   "execution_count": 3,
   "id": "3d481962",
   "metadata": {},
   "outputs": [
    {
     "data": {
      "text/plain": [
       "WindowsPath('C:/Users/Brian/projects/movie$')"
      ]
     },
     "execution_count": 3,
     "metadata": {},
     "output_type": "execute_result"
    }
   ],
   "source": [
    "directory"
   ]
  },
  {
   "cell_type": "code",
   "execution_count": 4,
   "id": "91020e6a",
   "metadata": {},
   "outputs": [
    {
     "name": "stdout",
     "output_type": "stream",
     "text": [
      "Start Time:07:20 PM\n"
     ]
    }
   ],
   "source": [
    "print('Start Time:' + str(datetime.datetime.now().strftime(\"%I:%M %p\")))"
   ]
  },
  {
   "cell_type": "code",
   "execution_count": 9,
   "id": "218e6f29",
   "metadata": {},
   "outputs": [
    {
     "name": "stdout",
     "output_type": "stream",
     "text": [
      "               Movie Table Release Copy Table Gross\n",
      "0                            Wonka      $14,077,078\n",
      "1                       Night Swim      $11,797,155\n",
      "2     Aquaman and the Lost Kingdom      $10,600,624\n",
      "3                        Migration       $9,996,880\n",
      "4                   Anyone But You       $9,751,317\n",
      "...                            ...              ...\n",
      "2763      Whiplash10th Anniversary           $3,738\n",
      "2764                The Wild Robot      $14,000,945\n",
      "2765                Alien: Romulus          $74,546\n",
      "2766                     Sebastian           $8,037\n",
      "2767               Faith of Angels           $7,491\n",
      "\n",
      "[2768 rows x 2 columns]\n"
     ]
    }
   ],
   "source": [
    "con = duckdb.connect()\n",
    "query = \"\"\"\n",
    "        INSTALL spatial; LOAD spatial; \n",
    "\n",
    "        SELECT *\n",
    "        FROM \n",
    "            st_read('C:\\\\Users\\\\Brian\\\\projects\\\\movie$\\\\Box_Officew.xlsx', layer=Sheet1, \n",
    "                open_options = ['HEADERS=FORCE'])  \n",
    "         \"\"\"\n",
    "\n",
    "movies_sheet = con.execute(query).fetchdf()\n",
    "\n",
    "con.execute(\"CREATE TABLE movie AS SELECT * FROM movies_sheet\")\n",
    "\n",
    "# --------------------------------------------------------------------\n",
    "query = \"\"\"\n",
    "        INSTALL spatial; LOAD spatial; \n",
    "\n",
    "        SELECT *\n",
    "        FROM \n",
    "            st_read('Box_Officew.xlsx', layer = \"Sheet2\", \n",
    "                open_options = ['HEADERS=FORCE'])  \n",
    "         \"\"\"\n",
    "\n",
    "movies_sheet = con.execute(query).fetchdf()\n",
    "\n",
    "con.execute(\"CREATE TABLE movie_copy AS SELECT * FROM movies_sheet\")\n",
    "\n",
    "result = con.execute(\"\"\"\n",
    "    SELECT movie.Release as \"Movie Table Release\", movie_copy.Gross as \"Copy Table Gross\"\n",
    "    FROM movie \n",
    "    INNER JOIN movie_copy on movie.Release = movie_copy.Release and movie.\"Weekend #\" = movie_copy.\"Weekend #\"\n",
    "                     \"\"\").fetchdf()\n",
    "\n",
    "print(result)\n",
    "\n",
    "# Close the DuckDB connection\n",
    "con.close()"
   ]
  },
  {
   "cell_type": "code",
   "execution_count": null,
   "id": "15d299d6",
   "metadata": {},
   "outputs": [],
   "source": [
    "movies_sheet.shape"
   ]
  },
  {
   "cell_type": "code",
   "execution_count": null,
   "id": "44018b57",
   "metadata": {},
   "outputs": [],
   "source": [
    "movies_sheet.head(5)"
   ]
  },
  {
   "cell_type": "code",
   "execution_count": null,
   "id": "8a40836f",
   "metadata": {},
   "outputs": [],
   "source": [
    "movies_sheet.info"
   ]
  },
  {
   "cell_type": "code",
   "execution_count": null,
   "id": "8485ae6a",
   "metadata": {},
   "outputs": [],
   "source": [
    "movies_sheet.columns"
   ]
  },
  {
   "cell_type": "code",
   "execution_count": null,
   "id": "42857cc8",
   "metadata": {},
   "outputs": [],
   "source": [
    "movies_sheet.items"
   ]
  },
  {
   "cell_type": "code",
   "execution_count": null,
   "id": "6d6cd13f",
   "metadata": {},
   "outputs": [],
   "source": [
    "print('End Time:' + str(datetime.datetime.now().strftime(\"%I:%M %p\")))"
   ]
  },
  {
   "cell_type": "code",
   "execution_count": null,
   "id": "922141ea",
   "metadata": {},
   "outputs": [],
   "source": [
    "movies_sheet.describe"
   ]
  },
  {
   "cell_type": "code",
   "execution_count": null,
   "id": "38ef7057",
   "metadata": {},
   "outputs": [],
   "source": []
  }
 ],
 "metadata": {
  "kernelspec": {
   "display_name": "Python 3 (ipykernel)",
   "language": "python",
   "name": "python3"
  },
  "language_info": {
   "codemirror_mode": {
    "name": "ipython",
    "version": 3
   },
   "file_extension": ".py",
   "mimetype": "text/x-python",
   "name": "python",
   "nbconvert_exporter": "python",
   "pygments_lexer": "ipython3",
   "version": "3.9.13"
  }
 },
 "nbformat": 4,
 "nbformat_minor": 5
}
